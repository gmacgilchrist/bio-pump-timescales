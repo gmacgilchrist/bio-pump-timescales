{
 "cells": [
  {
   "cell_type": "code",
   "execution_count": 1,
   "id": "284f8a90-425c-4eab-a45d-6340f8dbf499",
   "metadata": {},
   "outputs": [],
   "source": [
    "import xarray as xr\n",
    "import intake\n",
    "import numpy as np\n",
    "from cmip6_preprocessing.preprocessing import combined_preprocessing\n",
    "from cmip6_preprocessing.postprocessing import match_metrics, combine_datasets, merge_variables\n",
    "from dask.diagnostics import ProgressBar"
   ]
  },
  {
   "cell_type": "code",
   "execution_count": 2,
   "id": "5743512e-61f1-4148-90a9-0967d96b2e9d",
   "metadata": {},
   "outputs": [],
   "source": [
    "col = intake.open_esm_datastore(\"https://storage.googleapis.com/cmip6/pangeo-cmip6.json\")"
   ]
  },
  {
   "cell_type": "code",
   "execution_count": 4,
   "id": "3d0dceea-bd15-49af-ac52-41649aa68573",
   "metadata": {},
   "outputs": [
    {
     "name": "stdout",
     "output_type": "stream",
     "text": [
      "\n",
      "--> The keys in the returned dictionary of datasets are constructed as follows:\n",
      "\t'activity_id.institution_id.source_id.experiment_id.member_id.table_id.variable_id.grid_label.zstore.dcpp_init_year.version'\n"
     ]
    },
    {
     "data": {
      "text/html": [
       "\n",
       "    <div>\n",
       "        <style>\n",
       "            /* Turns off some styling */\n",
       "            progress {\n",
       "                /* gets rid of default border in Firefox and Opera. */\n",
       "                border: none;\n",
       "                /* Needs to be in here for Safari polyfill so background images work as expected. */\n",
       "                background-size: auto;\n",
       "            }\n",
       "            .progress-bar-interrupted, .progress-bar-interrupted::-webkit-progress-bar {\n",
       "                background: #F44336;\n",
       "            }\n",
       "        </style>\n",
       "      <progress value='130' class='' max='130' style='width:300px; height:20px; vertical-align: middle;'></progress>\n",
       "      100.00% [130/130 01:41<00:00]\n",
       "    </div>\n",
       "    "
      ],
      "text/plain": [
       "<IPython.core.display.HTML object>"
      ]
     },
     "metadata": {},
     "output_type": "display_data"
    }
   ],
   "source": [
    "variables = ['fgco2','hfds']\n",
    "z_kwargs = {'consolidated': True, 'use_cftime': True}\n",
    "kwargs = dict(zarr_kwargs=z_kwargs, preprocess=combined_preprocessing, aggregate=False)\n",
    "\n",
    "query = dict(experiment_id=['piControl'], \n",
    "             #table_id=['Omon'], \n",
    "             variable_id=variables,\n",
    "             #grid_label=['gn']\n",
    "            )\n",
    "cat = col.search(**query)\n",
    "dd = cat.to_dataset_dict(**kwargs)"
   ]
  },
  {
   "cell_type": "code",
   "execution_count": 5,
   "id": "fc88ad72-7f30-4944-85f6-b5da13d30f82",
   "metadata": {},
   "outputs": [
    {
     "name": "stderr",
     "output_type": "stream",
     "text": [
      "/srv/conda/envs/notebook/lib/python3.8/site-packages/cmip6_preprocessing/postprocessing.py:122: UserWarning: CMIP.MOHC.UKESM1-0-LL.piControl.r1i1p1f2.Omon.gn.none failed to combine with :indexes along dimension 'time' are not equal\n",
      "  warnings.warn(f\"{cmip6_dataset_id(ds)} failed to combine with :{e}\")\n",
      "/srv/conda/envs/notebook/lib/python3.8/site-packages/cmip6_preprocessing/postprocessing.py:122: UserWarning: CMIP.NASA-GISS.GISS-E2-1-G.piControl.r102i1p1f1.Omon.gn.none failed to combine with :indexes along dimension 'y' are not equal\n",
      "  warnings.warn(f\"{cmip6_dataset_id(ds)} failed to combine with :{e}\")\n",
      "/srv/conda/envs/notebook/lib/python3.8/site-packages/cmip6_preprocessing/postprocessing.py:122: UserWarning: CMIP.IPSL.IPSL-CM6A-LR.piControl.r1i1p1f1.Omon.gn.none failed to combine with :indexes along dimension 'time' are not equal\n",
      "  warnings.warn(f\"{cmip6_dataset_id(ds)} failed to combine with :{e}\")\n",
      "/srv/conda/envs/notebook/lib/python3.8/site-packages/cmip6_preprocessing/postprocessing.py:122: UserWarning: CMIP.NASA-GISS.GISS-E2-1-G-CC.piControl.r1i1p1f1.Omon.gn.none failed to combine with :indexes along dimension 'y' are not equal\n",
      "  warnings.warn(f\"{cmip6_dataset_id(ds)} failed to combine with :{e}\")\n",
      "/srv/conda/envs/notebook/lib/python3.8/site-packages/cmip6_preprocessing/postprocessing.py:122: UserWarning: CMIP.CCCma.CanESM5.piControl.r1i1p1f1.Omon.gn.v20190306 failed to combine with :indexes along dimension 'time' are not equal\n",
      "  warnings.warn(f\"{cmip6_dataset_id(ds)} failed to combine with :{e}\")\n",
      "/srv/conda/envs/notebook/lib/python3.8/site-packages/cmip6_preprocessing/postprocessing.py:122: UserWarning: CMIP.NASA-GISS.GISS-E2-1-G.piControl.r101i1p1f1.Omon.gn.none failed to combine with :indexes along dimension 'y' are not equal\n",
      "  warnings.warn(f\"{cmip6_dataset_id(ds)} failed to combine with :{e}\")\n"
     ]
    },
    {
     "data": {
      "text/plain": [
       "['CMCC-CM2-SR5.gn.piControl.Omon',\n",
       " 'FGOALS-g3.gn.piControl.Omon',\n",
       " 'AWI-ESM-1-1-LR.gn.piControl.Omon',\n",
       " 'IPSL-CM6A-LR.gn.piControl.Oyr',\n",
       " 'CESM2.gn.piControl.Omon',\n",
       " 'CNRM-CM6-1-HR.gn.piControl.Omon',\n",
       " 'SAM0-UNICON.gn.piControl.Omon',\n",
       " 'GFDL-CM4.gr.piControl.Omon',\n",
       " 'MRI-ESM2-0.gn.piControl.Omon',\n",
       " 'ACCESS-ESM1-5.gn.piControl.Omon',\n",
       " 'GISS-E2-1-H.gn.piControl.Omon',\n",
       " 'MPI-ESM1-2-LR.gn.piControl.Omon',\n",
       " 'E3SM-1-1.gr.piControl.Omon',\n",
       " 'CESM2-WACCM.gn.piControl.Oyr',\n",
       " 'NorESM1-F.gn.piControl.Omon',\n",
       " 'CESM2-FV2.gr.piControl.Omon',\n",
       " 'FIO-ESM-2-0.gn.piControl.Omon',\n",
       " 'CIESM.gn.piControl.Omon',\n",
       " 'MCM-UA-1-0.gn.piControl.Omon',\n",
       " 'CanESM5.gn.piControl.Omon',\n",
       " 'AWI-CM-1-1-MR.gn.piControl.Omon',\n",
       " 'NorCPM1.gn.piControl.Omon',\n",
       " 'IPSL-CM6A-LR.gn.piControl.Omon',\n",
       " 'GISS-E2-1-G.gn.piControl.Omon',\n",
       " 'ACCESS-ESM1-5.gn.piControl.Oyr',\n",
       " 'MIROC-ES2L.gr1.piControl.Omon',\n",
       " 'GFDL-ESM4.gr.piControl.Omon',\n",
       " 'EC-Earth3-Veg-LR.gn.piControl.Omon',\n",
       " 'MPI-ESM1-2-HR.gn.piControl.Oyr',\n",
       " 'MPI-ESM1-2-HR.gn.piControl.Omon',\n",
       " 'CESM2-WACCM-FV2.gr.piControl.Omon',\n",
       " 'EC-Earth3-AerChem.gn.piControl.Omon',\n",
       " 'CESM2-FV2.gn.piControl.Omon',\n",
       " 'CESM2-WACCM.gr.piControl.Omon',\n",
       " 'MIROC-ES2L.gr1.piControl.Oyr',\n",
       " 'NorESM1-F.gn.piControl.Oyr',\n",
       " 'CanESM5-CanOE.gn.piControl.Omon',\n",
       " 'BCC-ESM1.gn.piControl.Omon',\n",
       " 'CanESM5-CanOE.gn.piControl.Oyr',\n",
       " 'CESM2-WACCM-FV2.gn.piControl.Oyr',\n",
       " 'CAMS-CSM1-0.gn.piControl.Omon',\n",
       " 'TaiESM1.gn.piControl.Omon',\n",
       " 'E3SM-1-1-ECA.gr.piControl.Omon',\n",
       " 'E3SM-1-0.gr.piControl.Omon',\n",
       " 'EC-Earth3.gn.piControl.Omon',\n",
       " 'INM-CM4-8.gr1.piControl.Omon',\n",
       " 'CNRM-ESM2-1.gn.piControl.Omon',\n",
       " 'CESM2-WACCM.gr.piControl.Oyr',\n",
       " 'CNRM-CM6-1.gn.piControl.Omon',\n",
       " 'CESM2-WACCM-FV2.gn.piControl.Omon',\n",
       " 'MPI-ESM1-2-LR.gn.piControl.Oyr',\n",
       " 'CESM2.gr.piControl.Omon',\n",
       " 'CESM2-WACCM.gn.piControl.Omon',\n",
       " 'MPI-ESM-1-2-HAM.gn.piControl.Omon',\n",
       " 'CAS-ESM2-0.gn.piControl.Omon',\n",
       " 'EC-Earth3-LR.gn.piControl.Omon',\n",
       " 'MIROC-ES2L.gn.piControl.Omon',\n",
       " 'GISS-E2-2-G.gn.piControl.Omon',\n",
       " 'MRI-ESM2-0.gn.piControl.Oyr',\n",
       " 'HadGEM3-GC31-LL.gn.piControl.Omon',\n",
       " 'GFDL-ESM4.gn.piControl.Omon',\n",
       " 'ACCESS-CM2.gn.piControl.Omon',\n",
       " 'NESM3.gn.piControl.Omon',\n",
       " 'GFDL-ESM4.gr.piControl.Oyr',\n",
       " 'GFDL-CM4.gn.piControl.Omon',\n",
       " 'CanESM5.gn.piControl.Oyr',\n",
       " 'CESM2-FV2.gn.piControl.Oyr',\n",
       " 'MRI-ESM2-0.gr.piControl.Oyr',\n",
       " 'MPI-ESM-1-2-HAM.gn.piControl.Oyr',\n",
       " 'EC-Earth3-Veg.gn.piControl.Omon',\n",
       " 'CMCC-ESM2.gn.piControl.Oyr',\n",
       " 'CESM2.gn.piControl.Oyr',\n",
       " 'INM-CM5-0.gr1.piControl.Omon',\n",
       " 'IPSL-CM6A-LR.gn.piControl.Odec',\n",
       " 'CESM2-WACCM-FV2.gr.piControl.Oyr',\n",
       " 'MRI-ESM2-0.gr.piControl.Omon',\n",
       " 'NorESM2-LM.gn.piControl.Omon',\n",
       " 'HadGEM3-GC31-MM.gn.piControl.Omon',\n",
       " 'CESM2-FV2.gr.piControl.Oyr',\n",
       " 'NorESM2-LM.gn.piControl.Oyr',\n",
       " 'CESM2.gr.piControl.Oyr',\n",
       " 'CMCC-ESM2.gn.piControl.Omon']"
      ]
     },
     "execution_count": 5,
     "metadata": {},
     "output_type": "execute_result"
    }
   ],
   "source": [
    "def pick_first_member(ds_list, **kwargs):\n",
    "    return ds_list[0]\n",
    "\n",
    "ddnow = merge_variables(dd)\n",
    "ddnow = combine_datasets(\n",
    "    ddnow,\n",
    "    pick_first_member,\n",
    "    match_attrs=['source_id', 'grid_label', 'experiment_id', 'table_id']\n",
    ")\n",
    "list(ddnow.keys())"
   ]
  },
  {
   "cell_type": "code",
   "execution_count": 7,
   "id": "074b0048-9d29-44a9-9509-5afdd69db016",
   "metadata": {},
   "outputs": [],
   "source": [
    "ddsub = {}\n",
    "for d in ddnow.keys():\n",
    "    vs = ddnow[d].data_vars\n",
    "    if ('hfds' in vs) & ('fgco2' in vs):# & ('intpp' in vs):\n",
    "        ddsub[d] = ddnow[d]"
   ]
  },
  {
   "cell_type": "code",
   "execution_count": 11,
   "id": "d5aa8857-6da7-43b2-a532-ea79b8552e1e",
   "metadata": {},
   "outputs": [
    {
     "name": "stdout",
     "output_type": "stream",
     "text": [
      "\n",
      "--> The keys in the returned dictionary of datasets are constructed as follows:\n",
      "\t'activity_id.institution_id.source_id.experiment_id.member_id.table_id.variable_id.grid_label.zstore.dcpp_init_year.version'\n"
     ]
    },
    {
     "data": {
      "text/html": [
       "\n",
       "    <div>\n",
       "        <style>\n",
       "            /* Turns off some styling */\n",
       "            progress {\n",
       "                /* gets rid of default border in Firefox and Opera. */\n",
       "                border: none;\n",
       "                /* Needs to be in here for Safari polyfill so background images work as expected. */\n",
       "                background-size: auto;\n",
       "            }\n",
       "            .progress-bar-interrupted, .progress-bar-interrupted::-webkit-progress-bar {\n",
       "                background: #F44336;\n",
       "            }\n",
       "        </style>\n",
       "      <progress value='65' class='' max='65' style='width:300px; height:20px; vertical-align: middle;'></progress>\n",
       "      100.00% [65/65 00:24<00:00]\n",
       "    </div>\n",
       "    "
      ],
      "text/plain": [
       "<IPython.core.display.HTML object>"
      ]
     },
     "metadata": {},
     "output_type": "display_data"
    }
   ],
   "source": [
    "cat_metric = col.search(\n",
    "    variable_id=['areacello'], \n",
    "    table_id=['Ofx'], \n",
    "    experiment_id=['piControl'])\n",
    "dd_metric = cat_metric.to_dataset_dict(**kwargs)\n",
    "\n",
    "dddone = match_metrics(ddsub, dd_metric, ['areacello'])"
   ]
  },
  {
   "cell_type": "code",
   "execution_count": 15,
   "id": "0ff363b7-7281-4db3-9d80-9ed903dda3f5",
   "metadata": {},
   "outputs": [
    {
     "name": "stdout",
     "output_type": "stream",
     "text": [
      "CESM2.gn.piControl.Omon\n",
      "[########################################] | 100% Completed |  1min 48.3s\n",
      "MRI-ESM2-0.gn.piControl.Omon\n",
      "[########################################] | 100% Completed | 21.6s\n",
      "ACCESS-ESM1-5.gn.piControl.Omon\n",
      "[########################################] | 100% Completed |  1min  8.3s\n",
      "MPI-ESM1-2-LR.gn.piControl.Omon\n",
      "[########################################] | 100% Completed |  6.3s\n",
      "NorESM1-F.gn.piControl.Omon\n",
      "[########################################] | 100% Completed | 18.9s\n",
      "CESM2-FV2.gr.piControl.Omon\n",
      "[########################################] | 100% Completed | 27.9s\n",
      "CanESM5.gn.piControl.Omon\n",
      "[########################################] | 100% Completed |  1min 17.6s\n",
      "NorCPM1.gn.piControl.Omon\n",
      "[########################################] | 100% Completed | 44.9s\n",
      "IPSL-CM6A-LR.gn.piControl.Omon\n",
      "[########################################] | 100% Completed | 18.1s\n",
      "GFDL-ESM4.gr.piControl.Omon\n",
      "[########################################] | 100% Completed | 24.9s\n",
      "CESM2-WACCM-FV2.gr.piControl.Omon\n",
      "[########################################] | 100% Completed | 26.2s\n",
      "CESM2-FV2.gn.piControl.Omon\n",
      "[########################################] | 100% Completed | 47.3s\n",
      "CESM2-WACCM.gr.piControl.Omon\n",
      "[########################################] | 100% Completed | 28.2s\n",
      "CanESM5-CanOE.gn.piControl.Omon\n",
      "[########################################] | 100% Completed | 33.2s\n",
      "CNRM-ESM2-1.gn.piControl.Omon\n",
      "[########################################] | 100% Completed | 36.3s\n",
      "CESM2-WACCM-FV2.gn.piControl.Omon\n",
      "[########################################] | 100% Completed | 45.0s\n",
      "CESM2.gr.piControl.Omon\n",
      "[########################################] | 100% Completed |  1min  2.0s\n",
      "CESM2-WACCM.gn.piControl.Omon\n",
      "[########################################] | 100% Completed | 44.0s\n",
      "MPI-ESM-1-2-HAM.gn.piControl.Omon\n",
      "[########################################] | 100% Completed | 30.4s\n"
     ]
    }
   ],
   "source": [
    "ddint = {}\n",
    "for key in dddone.keys():\n",
    "    print(key)\n",
    "    ds = dddone[key]\n",
    "    ddint[key] = ds.weighted(ds['areacello'].fillna(0)).sum(['x', 'y']).resample(time='1AS').mean()\n",
    "    with ProgressBar():\n",
    "        ddint[key].to_netcdf('../data/processed/global_integrals/'+key+'.nc')"
   ]
  },
  {
   "cell_type": "code",
   "execution_count": null,
   "id": "ad1454da-b097-4bf8-9d67-d0eda12173a9",
   "metadata": {},
   "outputs": [],
   "source": []
  }
 ],
 "metadata": {
  "kernelspec": {
   "display_name": "Python 3 (ipykernel)",
   "language": "python",
   "name": "python3"
  },
  "language_info": {
   "codemirror_mode": {
    "name": "ipython",
    "version": 3
   },
   "file_extension": ".py",
   "mimetype": "text/x-python",
   "name": "python",
   "nbconvert_exporter": "python",
   "pygments_lexer": "ipython3",
   "version": "3.9.10"
  }
 },
 "nbformat": 4,
 "nbformat_minor": 5
}
