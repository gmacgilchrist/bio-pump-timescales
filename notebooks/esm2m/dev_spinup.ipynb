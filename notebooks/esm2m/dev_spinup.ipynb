{
 "cells": [
  {
   "cell_type": "code",
   "execution_count": 1,
   "id": "663fcb04",
   "metadata": {},
   "outputs": [],
   "source": [
    "import bio_pump_timescales.esm2m as esm2m\n",
    "import gfdl_utils as gu"
   ]
  },
  {
   "cell_type": "code",
   "execution_count": 2,
   "id": "b7981c48",
   "metadata": {},
   "outputs": [],
   "source": [
    "pathDict = {'pp':('/archive/Richard.Slater/Siena/'+\n",
    "                  'siena_201308_rds-c3-gat-slurm/'+\n",
    "                  'MOM5_SIS_BLING_CORE2-spinup-intel19/'+\n",
    "                  'gfdl.ncrc3-intel19-prod-openmp/pp'),\n",
    "           'ppname':'ocean_annual',\n",
    "           'out':'ts',\n",
    "           'local':'annual/20yr',\n",
    "           'add':'temp'}"
   ]
  },
  {
   "cell_type": "code",
   "execution_count": 3,
   "id": "52102c9f",
   "metadata": {},
   "outputs": [
    {
     "name": "stdout",
     "output_type": "stream",
     "text": [
      "ice_annual\n",
      "ocean_age_annual\n",
      "ocean_annual\n",
      "ocean_bling_ctrl_snapshot\n",
      "ocean_bling_ctrl_tracers\n",
      "static.nc\n"
     ]
    },
    {
     "data": {
      "text/plain": [
       "0"
      ]
     },
     "execution_count": 3,
     "metadata": {},
     "output_type": "execute_result"
    }
   ],
   "source": [
    "gu.core.disp_ppnames(pathDict['pp'])"
   ]
  },
  {
   "cell_type": "code",
   "execution_count": null,
   "id": "abe23007",
   "metadata": {},
   "outputs": [],
   "source": []
  }
 ],
 "metadata": {
  "kernelspec": {
   "display_name": "Python [conda env:bio-pump-timescales]",
   "language": "python",
   "name": "conda-env-bio-pump-timescales-py"
  },
  "language_info": {
   "codemirror_mode": {
    "name": "ipython",
    "version": 3
   },
   "file_extension": ".py",
   "mimetype": "text/x-python",
   "name": "python",
   "nbconvert_exporter": "python",
   "pygments_lexer": "ipython3",
   "version": "3.9.7"
  }
 },
 "nbformat": 4,
 "nbformat_minor": 5
}
